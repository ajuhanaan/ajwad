{
  "nbformat": 4,
  "nbformat_minor": 0,
  "metadata": {
    "colab": {
      "provenance": []
    },
    "kernelspec": {
      "name": "python3",
      "display_name": "Python 3"
    },
    "language_info": {
      "name": "python"
    }
  },
  "cells": [
    {
      "cell_type": "code",
      "execution_count": 50,
      "metadata": {
        "id": "SNIVtP-TKd9c",
        "colab": {
          "base_uri": "https://localhost:8080/",
          "height": 193
        },
        "outputId": "b8497db0-005a-4582-c4a8-bf1c6ca81b51"
      },
      "outputs": [
        {
          "name": "stdout",
          "output_type": "stream",
          "text": [
            "Enter the string: ajwad\n"
          ]
        },
        {
          "output_type": "error",
          "ename": "ValueError",
          "evalue": "invalid literal for int() with base 10: 'ajwad'",
          "traceback": [
            "\u001b[0;31m---------------------------------------------------------------------------\u001b[0m",
            "\u001b[0;31mValueError\u001b[0m                                Traceback (most recent call last)",
            "\u001b[0;32m<ipython-input-50-05e66980b17b>\u001b[0m in \u001b[0;36m<cell line: 10>\u001b[0;34m()\u001b[0m\n\u001b[1;32m      8\u001b[0m       \u001b[0mletters\u001b[0m \u001b[0;34m+=\u001b[0m \u001b[0;36m1\u001b[0m\u001b[0;34m\u001b[0m\u001b[0;34m\u001b[0m\u001b[0m\n\u001b[1;32m      9\u001b[0m \u001b[0;34m\u001b[0m\u001b[0m\n\u001b[0;32m---> 10\u001b[0;31m \u001b[0mx\u001b[0m\u001b[0;34m=\u001b[0m\u001b[0mint\u001b[0m\u001b[0;34m(\u001b[0m\u001b[0minput\u001b[0m\u001b[0;34m(\u001b[0m\u001b[0;34m'Enter the string: '\u001b[0m\u001b[0;34m)\u001b[0m\u001b[0;34m)\u001b[0m\u001b[0;34m\u001b[0m\u001b[0;34m\u001b[0m\u001b[0m\n\u001b[0m",
            "\u001b[0;31mValueError\u001b[0m: invalid literal for int() with base 10: 'ajwad'"
          ]
        }
      ],
      "source": [
        "''' Write a Python function to accept a string value from the user and display the\n",
        "count of each character in that string. Sample input: Enter a string value:\n",
        "assembly Sample output: a=1, s=2, e=1, m=1, b=1, l=1, y=1 '''\n",
        "def count(n):\n",
        "  letters=0\n",
        "  for char in n:\n",
        "    if char (\"abcdefghijklmnopqrstuvwxyzABCDEFGHIJKLMNOPQRSTUVWXYZ\"):\n",
        "      letters += 1\n",
        "\n",
        "x=int(input('Enter the string: '))\n"
      ]
    },
    {
      "cell_type": "code",
      "source": [
        "'''. Write a Python function to find the maximum of three numbers Sample input:\n",
        "34,12,7 Sample output: 34 '''\n",
        "def findmax(a,b,c):\n",
        "  return max(a,b,c)\n",
        "a = float(input(\"Enter the first number: \"))\n",
        "b = float(input(\"Enter the second number: \"))\n",
        "c = float(input(\"Enter the third number: \"))\n",
        "if a>b and a>c:\n",
        "  print(a,'is the maximum')\n",
        "elif b>a and b>c:\n",
        "  print(b,'is the maximum')\n",
        "else:\n",
        "  print(c,'is the maximum')"
      ],
      "metadata": {
        "id": "lSdnLbFPLbaQ",
        "colab": {
          "base_uri": "https://localhost:8080/"
        },
        "outputId": "15c1d397-3f27-4ad9-9c35-953f6e49f2f0"
      },
      "execution_count": null,
      "outputs": [
        {
          "output_type": "stream",
          "name": "stdout",
          "text": [
            "Enter the first number: 1\n",
            "Enter the second number: 2\n",
            "Enter the third number: 3\n",
            "3.0 is the maximum\n"
          ]
        }
      ]
    },
    {
      "cell_type": "code",
      "source": [
        "'''Write a Python function called exponent(base,exp) that returns an integer\n",
        "value of base raises to the power of exp. Sample input: Enter the base: 2\n",
        "Enter the exponent: 3 Sample output: 8 '''\n",
        "\n",
        "def exponent(base, exp):\n",
        "    return base ** exp\n",
        "base = float(input(\"Enter the base: \"))\n",
        "exp = float(input(\"Enter the exp: \"))\n",
        "result = exponent(base, exp)\n",
        "print(\"the output is :\",result)\n"
      ],
      "metadata": {
        "colab": {
          "base_uri": "https://localhost:8080/"
        },
        "id": "BYn6eJR7Rrgp",
        "outputId": "8692fe3f-3196-4f91-95af-48e82f24b267"
      },
      "execution_count": null,
      "outputs": [
        {
          "output_type": "stream",
          "name": "stdout",
          "text": [
            "Enter the base: 2\n",
            "Enter the exp: 3\n",
            "the output is : 8.0\n"
          ]
        }
      ]
    },
    {
      "cell_type": "code",
      "source": [
        "''' Write a Python program which iterates from 1 to 10. For multiples of 2, print\n",
        "“Fizz” instead of the number and for the multiples of 5, print “Buzz”. For\n",
        "numbers which are multiples of both 2 and 5, print “FizzBuzz”. Sample input:\n",
        "numbers from 1 to 10 Sample output: 1 Fizz 3 Fizz Buzz Fizz 7 Fizz 9\n",
        "FizzBuzz '''\n",
        "\n",
        "for n in range(1,11):\n",
        "  print(n)\n",
        "  if n%2==0 and n%5==0:\n",
        "    print(\"fizzbuzz\")\n",
        "  elif n%2==0:\n",
        "    print(\"fizz\")\n",
        "  elif n%5==0:\n",
        "    print(\"buzz\")\n",
        "\n",
        "\n",
        ""
      ],
      "metadata": {
        "colab": {
          "base_uri": "https://localhost:8080/"
        },
        "id": "nOJa2YZheSDL",
        "outputId": "43353ecf-dd5f-4950-d982-7f70a6b67eea"
      },
      "execution_count": 38,
      "outputs": [
        {
          "output_type": "stream",
          "name": "stdout",
          "text": [
            "1\n",
            "2\n",
            "fizz\n",
            "3\n",
            "4\n",
            "fizz\n",
            "5\n",
            "buzz\n",
            "6\n",
            "fizz\n",
            "7\n",
            "8\n",
            "fizz\n",
            "9\n",
            "10\n",
            "fizzbuzz\n"
          ]
        }
      ]
    },
    {
      "cell_type": "code",
      "source": [
        "\"\"\"Write a Python function to find the sum of squares of the numbers in a list.\n",
        "Sample input: 2,1,3,1 Sample output: 15\"\"\"\n",
        "def sum_of_squares(numbers):\n",
        "    return sum(x ** 2 for x in numbers)\n",
        "  numbers = [2, 1, 3, 1]\n",
        "  result = sum_of_squares(numbers)\n",
        "           print(\"Sum of squares:\", result)"
      ],
      "metadata": {
        "colab": {
          "base_uri": "https://localhost:8080/",
          "height": 106
        },
        "id": "xvdJRed_fefI",
        "outputId": "12eeecec-e821-4016-9af5-67d9d8c6387f"
      },
      "execution_count": 48,
      "outputs": [
        {
          "output_type": "error",
          "ename": "IndentationError",
          "evalue": "unindent does not match any outer indentation level (<tokenize>, line 5)",
          "traceback": [
            "\u001b[0;36m  File \u001b[0;32m\"<tokenize>\"\u001b[0;36m, line \u001b[0;32m5\u001b[0m\n\u001b[0;31m    numbers = [2, 1, 3, 1]\u001b[0m\n\u001b[0m    ^\u001b[0m\n\u001b[0;31mIndentationError\u001b[0m\u001b[0;31m:\u001b[0m unindent does not match any outer indentation level\n"
          ]
        }
      ]
    },
    {
      "cell_type": "code",
      "source": [
        "'''Write a Python program using for loop that will iterate from 1 to 15. For each\n",
        "iteration, check if the current number is odd or even, and display the message\n",
        "to the screen as odd or even. Sample input: 1….15 Sample output: 1-odd 2-\n",
        "even …. 15-odd '''\n",
        "\n",
        "for i in range(1,16):\n",
        "  if i%2==0:\n",
        "    print(f\"{i} - even\")\n",
        "  else:\n",
        "    print(f\"{i} - odd\")"
      ],
      "metadata": {
        "colab": {
          "base_uri": "https://localhost:8080/"
        },
        "id": "ZmPAEgy_mPtj",
        "outputId": "da1c0028-fba0-44fb-c7db-c1e853d5bcc9"
      },
      "execution_count": 49,
      "outputs": [
        {
          "output_type": "stream",
          "name": "stdout",
          "text": [
            "1 - odd\n",
            "2 - even\n",
            "3 - odd\n",
            "4 - even\n",
            "5 - odd\n",
            "6 - even\n",
            "7 - odd\n",
            "8 - even\n",
            "9 - odd\n",
            "10 - even\n",
            "11 - odd\n",
            "12 - even\n",
            "13 - odd\n",
            "14 - even\n",
            "15 - odd\n"
          ]
        }
      ]
    },
    {
      "cell_type": "code",
      "source": [
        "''''In this case study, you will create a program that manages student records for\n",
        "a school or college. The program will allow the user (e.g., an administrator) to\n",
        "perform various operations on student data, such as adding new students,\n",
        "updating existing student information, and displaying student records.\n",
        "Requirements:\n",
        "1. The program should have a menu-driven interface that displays the\n",
        "following options:\n",
        "• Add a new student\n",
        "• Update student information\n",
        "• Display student records\n",
        "• Exit the program\n",
        "2. When adding a new student, the program should prompt the user to enter\n",
        "the following information:\n",
        "• Student ID (unique identifier)\n",
        "• Student name\n",
        "• Grade level (e.g., 9, 10, 11, 12)\n",
        "• GPA (Grade Point Average)\n",
        "3. When updating student information, the program should prompt the user\n",
        "to enter the student ID and then allow them to update the student's name,\n",
        "grade level, or GPA.\n",
        "4. When displaying student records, the program should provide options to:\n",
        "• Display all student records\n",
        "• Display records for a specific grade level\n",
        "• Display records for students with a GPA above a certain threshold\n",
        "5. The program should use appropriate data structures (e.g., lists,\n",
        "dictionaries) to store and manage student records.\n",
        "6. The program should have functions to perform the various operations\n",
        "(adding, updating, displaying) on student records.\n",
        "7. The program should handle errors and invalid inputs gracefully'''\n",
        "\n",
        "\n",
        "def display_student_records():\n",
        "    print(\"Displaying student records menu\")\n",
        "\n",
        "while True:\n",
        "    print(\"Enter (1) for Adding a new student\")\n",
        "    print(\"Enter (2) to Update student information\")\n",
        "    print(\"Enter (3) Display student records\")\n",
        "    print(\"Enter (4) Exit the program\")\n",
        "    n = input(\"Enter the number: \")\n",
        "\n",
        "    if n == '1':\n",
        "        add_new_student()\n",
        "\n",
        "        x = int(input(\"enter the name:\"))\n",
        "        print = x\n",
        "        break\n",
        "    elif n == '2':\n",
        "        update_student_information()\n",
        "        print(\"update information.\")\n",
        "        break\n",
        "    elif n == '3':\n",
        "        display_student_records()\n",
        "        break\n",
        "    elif n == '4':\n",
        "        print(\"Exiting the program.\")\n",
        "        break\n",
        "    else:\n",
        "        print(\"Invalid input! Please enter a number from 1 to 4.\")\n",
        "\n"
      ],
      "metadata": {
        "colab": {
          "base_uri": "https://localhost:8080/"
        },
        "id": "LSkjPeEInce9",
        "outputId": "21ad2a26-b60e-4b8d-87e2-16dfab1790ed"
      },
      "execution_count": 86,
      "outputs": [
        {
          "name": "stdout",
          "output_type": "stream",
          "text": [
            "Enter (1) for Adding a new student\n",
            "Enter (2) to Update student information\n",
            "Enter (3) Display student records\n",
            "Enter (4) Exit the program\n",
            "Enter the number: 1\n",
            "Adding a new student menu\n",
            "enter the name:2\n"
          ]
        }
      ]
    },
    {
      "cell_type": "code",
      "source": [
        "2\n"
      ],
      "metadata": {
        "id": "Um7H2t6qqf56"
      },
      "execution_count": null,
      "outputs": []
    }
  ]
}